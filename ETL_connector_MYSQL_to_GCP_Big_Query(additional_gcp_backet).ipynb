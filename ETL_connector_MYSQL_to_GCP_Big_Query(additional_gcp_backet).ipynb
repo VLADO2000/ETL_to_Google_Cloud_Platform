{
 "cells": [
  {
   "cell_type": "code",
   "execution_count": 2,
   "id": "6e7e4673",
   "metadata": {},
   "outputs": [],
   "source": [
    "#Connection to MYSQL(localhost)"
   ]
  },
  {
   "cell_type": "code",
   "execution_count": 1,
   "id": "f7fd7f40",
   "metadata": {},
   "outputs": [],
   "source": [
    "import mysql.connector\n",
    "from mysql.connector import Error\n",
    "import pandas as pd"
   ]
  },
  {
   "cell_type": "code",
   "execution_count": 8,
   "id": "4de9ee97",
   "metadata": {},
   "outputs": [],
   "source": [
    "def connector(host, db, root, password, ssq, columns):\n",
    "    try:\n",
    "        connection = mysql.connector.connect(host=host,\n",
    "                                       database=db,\n",
    "                                       user=root,\n",
    "                                       password=password)\n",
    "        if connection.is_connected():\n",
    "            db_Info = connection.get_server_info()\n",
    "            print('Connection to MySQL Server', db_Info)\n",
    "            cursor = connection.cursor()\n",
    "            cursor.execute('SELECT database();')\n",
    "            record = cursor.fetchone()\n",
    "            print(\"You are connected to database: \", record)\n",
    "            \n",
    "            sql_select_Query = ssq\n",
    "            cursor = connection.cursor(dictionary=True)\n",
    "            cursor.execute(sql_select_Query)\n",
    "            records = cursor.fetchall()\n",
    "            \n",
    "            df = pd.DataFrame(records, columns=columns)\n",
    "\n",
    "\n",
    "    except Erro as e:\n",
    "        print('Error connection to MySQL', e)\n",
    "    finally:\n",
    "        if connection.is_connected():\n",
    "            cursor.close()\n",
    "            connection.close()\n",
    "            print('MySQL connection is closed')\n",
    "    return df"
   ]
  },
  {
   "cell_type": "code",
   "execution_count": 9,
   "id": "b1dc691d",
   "metadata": {
    "scrolled": true
   },
   "outputs": [
    {
     "name": "stdout",
     "output_type": "stream",
     "text": [
      "Connection to MySQL Server 8.0.29\n",
      "You are connected to database:  ('sakila',)\n",
      "MySQL connection is closed\n"
     ]
    }
   ],
   "source": [
    "col = ['city_id','city','country_id','last_update']\n",
    "ssq= \"SELECT * FROM city ORDER BY city_id\"\n",
    "host='localhost'\n",
    "db='sakila'\n",
    "root='root'\n",
    "password='pass'\n",
    "df = connector(host, db, root,password,ssq,col)"
   ]
  },
  {
   "cell_type": "code",
   "execution_count": 10,
   "id": "e352acd0",
   "metadata": {},
   "outputs": [
    {
     "data": {
      "text/html": [
       "<div>\n",
       "<style scoped>\n",
       "    .dataframe tbody tr th:only-of-type {\n",
       "        vertical-align: middle;\n",
       "    }\n",
       "\n",
       "    .dataframe tbody tr th {\n",
       "        vertical-align: top;\n",
       "    }\n",
       "\n",
       "    .dataframe thead th {\n",
       "        text-align: right;\n",
       "    }\n",
       "</style>\n",
       "<table border=\"1\" class=\"dataframe\">\n",
       "  <thead>\n",
       "    <tr style=\"text-align: right;\">\n",
       "      <th></th>\n",
       "      <th>city_id</th>\n",
       "      <th>city</th>\n",
       "      <th>country_id</th>\n",
       "      <th>last_update</th>\n",
       "    </tr>\n",
       "  </thead>\n",
       "  <tbody>\n",
       "    <tr>\n",
       "      <th>0</th>\n",
       "      <td>1</td>\n",
       "      <td>A Coruña (La Coruña)</td>\n",
       "      <td>87</td>\n",
       "      <td>2006-02-15 04:45:25</td>\n",
       "    </tr>\n",
       "    <tr>\n",
       "      <th>1</th>\n",
       "      <td>2</td>\n",
       "      <td>Abha</td>\n",
       "      <td>82</td>\n",
       "      <td>2006-02-15 04:45:25</td>\n",
       "    </tr>\n",
       "    <tr>\n",
       "      <th>2</th>\n",
       "      <td>3</td>\n",
       "      <td>Abu Dhabi</td>\n",
       "      <td>101</td>\n",
       "      <td>2006-02-15 04:45:25</td>\n",
       "    </tr>\n",
       "    <tr>\n",
       "      <th>3</th>\n",
       "      <td>4</td>\n",
       "      <td>Acuña</td>\n",
       "      <td>60</td>\n",
       "      <td>2006-02-15 04:45:25</td>\n",
       "    </tr>\n",
       "    <tr>\n",
       "      <th>4</th>\n",
       "      <td>5</td>\n",
       "      <td>Adana</td>\n",
       "      <td>97</td>\n",
       "      <td>2006-02-15 04:45:25</td>\n",
       "    </tr>\n",
       "    <tr>\n",
       "      <th>...</th>\n",
       "      <td>...</td>\n",
       "      <td>...</td>\n",
       "      <td>...</td>\n",
       "      <td>...</td>\n",
       "    </tr>\n",
       "    <tr>\n",
       "      <th>595</th>\n",
       "      <td>596</td>\n",
       "      <td>Zaria</td>\n",
       "      <td>69</td>\n",
       "      <td>2006-02-15 04:45:25</td>\n",
       "    </tr>\n",
       "    <tr>\n",
       "      <th>596</th>\n",
       "      <td>597</td>\n",
       "      <td>Zeleznogorsk</td>\n",
       "      <td>80</td>\n",
       "      <td>2006-02-15 04:45:25</td>\n",
       "    </tr>\n",
       "    <tr>\n",
       "      <th>597</th>\n",
       "      <td>598</td>\n",
       "      <td>Zhezqazghan</td>\n",
       "      <td>51</td>\n",
       "      <td>2006-02-15 04:45:25</td>\n",
       "    </tr>\n",
       "    <tr>\n",
       "      <th>598</th>\n",
       "      <td>599</td>\n",
       "      <td>Zhoushan</td>\n",
       "      <td>23</td>\n",
       "      <td>2006-02-15 04:45:25</td>\n",
       "    </tr>\n",
       "    <tr>\n",
       "      <th>599</th>\n",
       "      <td>600</td>\n",
       "      <td>Ziguinchor</td>\n",
       "      <td>83</td>\n",
       "      <td>2006-02-15 04:45:25</td>\n",
       "    </tr>\n",
       "  </tbody>\n",
       "</table>\n",
       "<p>600 rows × 4 columns</p>\n",
       "</div>"
      ],
      "text/plain": [
       "     city_id                  city  country_id         last_update\n",
       "0          1  A Coruña (La Coruña)          87 2006-02-15 04:45:25\n",
       "1          2                  Abha          82 2006-02-15 04:45:25\n",
       "2          3             Abu Dhabi         101 2006-02-15 04:45:25\n",
       "3          4                 Acuña          60 2006-02-15 04:45:25\n",
       "4          5                 Adana          97 2006-02-15 04:45:25\n",
       "..       ...                   ...         ...                 ...\n",
       "595      596                 Zaria          69 2006-02-15 04:45:25\n",
       "596      597          Zeleznogorsk          80 2006-02-15 04:45:25\n",
       "597      598           Zhezqazghan          51 2006-02-15 04:45:25\n",
       "598      599              Zhoushan          23 2006-02-15 04:45:25\n",
       "599      600            Ziguinchor          83 2006-02-15 04:45:25\n",
       "\n",
       "[600 rows x 4 columns]"
      ]
     },
     "execution_count": 10,
     "metadata": {},
     "output_type": "execute_result"
    }
   ],
   "source": [
    "df"
   ]
  },
  {
   "cell_type": "code",
   "execution_count": null,
   "id": "6f1558a5",
   "metadata": {},
   "outputs": [],
   "source": [
    "#Exporting DataFrame to Google cloud platform backet"
   ]
  },
  {
   "cell_type": "code",
   "execution_count": 32,
   "id": "992964c9",
   "metadata": {},
   "outputs": [],
   "source": [
    "import google.cloud\n",
    "from google.cloud import storage"
   ]
  },
  {
   "cell_type": "code",
   "execution_count": 36,
   "id": "e513ce7a",
   "metadata": {},
   "outputs": [],
   "source": [
    "def bucket_gcp(myjsonfilekey, bucket):\n",
    "    client = storage.Client.from_service_account_json(myjsonfilekey)\n",
    "    bucket = client.get_bucket(bucket)\n",
    "    bucket.blob('upload_address/address.csv').upload_from_string(df.to_csv(), 'text/csv')"
   ]
  },
  {
   "cell_type": "code",
   "execution_count": 37,
   "id": "af119df8",
   "metadata": {},
   "outputs": [],
   "source": [
    "myjsonfilekey = 'yourkey.json'\n",
    "bucket = 'etl_backet'\n",
    "bucket_gcp(myjsonfilekey, bucket)"
   ]
  },
  {
   "cell_type": "code",
   "execution_count": null,
   "id": "79ff6cb0",
   "metadata": {},
   "outputs": [],
   "source": [
    "#Here we reached backets into GCP but it is comfortable only if you want to store a file"
   ]
  },
  {
   "cell_type": "code",
   "execution_count": null,
   "id": "c339f7fc",
   "metadata": {},
   "outputs": [],
   "source": [
    "################################################################################################################"
   ]
  },
  {
   "cell_type": "code",
   "execution_count": 38,
   "id": "c6d0fed7",
   "metadata": {},
   "outputs": [],
   "source": [
    "#Exporting data frame to Google Cloud Platform Big Query"
   ]
  },
  {
   "cell_type": "code",
   "execution_count": 11,
   "id": "68952ab3",
   "metadata": {},
   "outputs": [],
   "source": [
    "from google.cloud import storage\n",
    "from google.oauth2 import service_account\n",
    "import pandas_gbq"
   ]
  },
  {
   "cell_type": "code",
   "execution_count": 12,
   "id": "708888ab",
   "metadata": {},
   "outputs": [],
   "source": [
    "\n",
    "projectid = 'elt-to-bigquery'\n",
    "myjsonfilekey = 'yourkey.json'\n",
    "destination = \"Shark_set_bq_2022.My_bq_transfer_sql\""
   ]
  },
  {
   "cell_type": "code",
   "execution_count": 13,
   "id": "fb959aba",
   "metadata": {},
   "outputs": [],
   "source": [
    "def con_to_big_query(myjsonfilekey, projectid, destination, tableschema):\n",
    "    credentials_ = service_account.Credentials.from_service_account_file(myjsonfilekey)\n",
    "    df.to_gbq(project_id=projectid,\n",
    "              destination_table=destination,\n",
    "              credentials=credentials_,\n",
    "             chunksize=None,\n",
    "             if_exists='replace',\n",
    "            table_schema= tableschema\n",
    "             )"
   ]
  },
  {
   "cell_type": "code",
   "execution_count": 14,
   "id": "68bf9f28",
   "metadata": {},
   "outputs": [
    {
     "name": "stderr",
     "output_type": "stream",
     "text": [
      "100%|███████████████████████████████████████████| 1/1 [00:00<00:00, 1543.16it/s]\n"
     ]
    }
   ],
   "source": [
    "projectid = 'elt-to-bigquery'\n",
    "myjsonfilekey = 'yourkey.json'\n",
    "destination = \"Shark_set_bq_2022.My_bq_transfer_sql\"\n",
    "table_schema = [{'name':'city_id', 'type':'INTEGER'},\n",
    "                          {'name':'city', 'type':'STRING'},\n",
    "                          {'name':'country_id', 'type':'INTEGER'},\n",
    "                        {'name':'last_update', 'type':'DATETIME'} ]\n",
    "\n",
    "con_to_big_query(myjsonfilekey,projectid, destination, table_schema)"
   ]
  },
  {
   "cell_type": "code",
   "execution_count": null,
   "id": "218b0462",
   "metadata": {},
   "outputs": [],
   "source": [
    "#Here we go, our table has been downloaded without any problems. This solution could be usefull for those who tried libraries\n",
    "#like google.cloud bigquery but it dosen't work because of version error same as i have. Pandas_gbq gives much more simplier solution"
   ]
  }
 ],
 "metadata": {
  "kernelspec": {
   "display_name": "Python 3 (ipykernel)",
   "language": "python",
   "name": "python3"
  },
  "language_info": {
   "codemirror_mode": {
    "name": "ipython",
    "version": 3
   },
   "file_extension": ".py",
   "mimetype": "text/x-python",
   "name": "python",
   "nbconvert_exporter": "python",
   "pygments_lexer": "ipython3",
   "version": "3.9.7"
  }
 },
 "nbformat": 4,
 "nbformat_minor": 5
}
